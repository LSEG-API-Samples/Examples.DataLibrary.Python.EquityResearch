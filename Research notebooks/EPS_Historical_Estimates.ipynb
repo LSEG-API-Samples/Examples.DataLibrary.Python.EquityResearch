{
 "cells": [
  {
   "cell_type": "markdown",
   "metadata": {},
   "source": [
    "# REFINITIV EPS HISTORICAL ESTIMATES\n",
    "\n",
    "### Instructions\n",
    "\n",
    "Please input a valid RIC, period, start date, end date and frequency - after running the first and second cell below. Then you can run the rest of the notebook using shift+enter for each cell sequentially. \n",
    "\n",
    "This notebook will provide all of the information contained in the popular Eikon/Workspace template of the same name. This includes some general information about the company and then detailed EPS historical estimates including numbers of included estimates for FY1 to FY4."
   ]
  },
  {
   "cell_type": "code",
   "execution_count": 2,
   "metadata": {},
   "outputs": [
    {
     "data": {
      "text/plain": [
       "<refinitiv.data.session.Definition object at 0x14a6b17f0 {name='workspace'}>"
      ]
     },
     "execution_count": 2,
     "metadata": {},
     "output_type": "execute_result"
    }
   ],
   "source": [
    "import refinitiv.data as rd\n",
    "import numpy as np\n",
    "import pandas as pd\n",
    "import ipywidgets as widgets\n",
    "from ipywidgets import Box, Layout\n",
    "import matplotlib as plt\n",
    "import warnings\n",
    "\n",
    "%matplotlib inline\n",
    "plt.style.use(\"seaborn\")\n",
    "warnings.filterwarnings(\"ignore\")\n",
    "rd.open_session()"
   ]
  },
  {
   "cell_type": "code",
   "execution_count": 3,
   "metadata": {},
   "outputs": [
    {
     "data": {
      "application/vnd.jupyter.widget-view+json": {
       "model_id": "4e92c48473d345798dc3ab07dbc9d136",
       "version_major": 2,
       "version_minor": 0
      },
      "text/plain": [
       "Box(children=(Text(value='', description='RIC:', placeholder='Type something'), Dropdown(description='Period:'…"
      ]
     },
     "execution_count": 3,
     "metadata": {},
     "output_type": "execute_result"
    }
   ],
   "source": [
    "ric = widgets.Text(\n",
    "    value='',\n",
    "    placeholder='Type something',\n",
    "    description='RIC:',\n",
    "    disabled=False\n",
    ")\n",
    "\n",
    "period = widgets.Dropdown(\n",
    "    options=['Annual', 'Quarterly'],\n",
    "    value='Annual',\n",
    "    description='Period:',\n",
    "    disabled=False,\n",
    ")\n",
    "\n",
    "sD = widgets.DatePicker(\n",
    "    description='Start',\n",
    "    disabled=False\n",
    ")\n",
    "\n",
    "eD = widgets.DatePicker(\n",
    "    description='End',\n",
    "    disabled=False\n",
    ")\n",
    "\n",
    "freq = widgets.Dropdown(\n",
    "    options=['D', 'W', 'M', 'Y'],\n",
    "    value='M',\n",
    "    description='Freq:',\n",
    "    disabled=False,\n",
    ")\n",
    "\n",
    "box_layout = Layout(display='flex',\n",
    "                    flex_flow='row wrap',\n",
    "                    align_items='stretch',\n",
    "                    border='solid',\n",
    "                    width='100%')\n",
    "\n",
    "items = [ric, period, sD, eD, freq]\n",
    "box = Box(children=items, layout=box_layout)\n",
    "\n",
    "box"
   ]
  },
  {
   "cell_type": "markdown",
   "metadata": {},
   "source": [
    "### About"
   ]
  },
  {
   "cell_type": "code",
   "execution_count": 8,
   "metadata": {},
   "outputs": [
    {
     "data": {
      "text/html": [
       "<div>\n",
       "<style scoped>\n",
       "    .dataframe tbody tr th:only-of-type {\n",
       "        vertical-align: middle;\n",
       "    }\n",
       "\n",
       "    .dataframe tbody tr th {\n",
       "        vertical-align: top;\n",
       "    }\n",
       "\n",
       "    .dataframe thead th {\n",
       "        text-align: right;\n",
       "    }\n",
       "</style>\n",
       "<table border=\"1\" class=\"dataframe\">\n",
       "  <thead>\n",
       "    <tr style=\"text-align: right;\">\n",
       "      <th></th>\n",
       "      <th>0</th>\n",
       "    </tr>\n",
       "  </thead>\n",
       "  <tbody>\n",
       "    <tr>\n",
       "      <th>Instrument</th>\n",
       "      <td>VOD.L</td>\n",
       "    </tr>\n",
       "    <tr>\n",
       "      <th>Country of Headquarters</th>\n",
       "      <td>United Kingdom</td>\n",
       "    </tr>\n",
       "    <tr>\n",
       "      <th>Exchange Name</th>\n",
       "      <td>LONDON STOCK EXCHANGE</td>\n",
       "    </tr>\n",
       "    <tr>\n",
       "      <th>TRBC Industry Group Name</th>\n",
       "      <td>Telecommunications Services</td>\n",
       "    </tr>\n",
       "    <tr>\n",
       "      <th>GICS Sector Name</th>\n",
       "      <td>Communication Services</td>\n",
       "    </tr>\n",
       "    <tr>\n",
       "      <th>Ticker Symbol</th>\n",
       "      <td>VOD</td>\n",
       "    </tr>\n",
       "  </tbody>\n",
       "</table>\n",
       "</div>"
      ],
      "text/plain": [
       "                                                    0\n",
       "Instrument                                      VOD.L\n",
       "Country of Headquarters                United Kingdom\n",
       "Exchange Name                   LONDON STOCK EXCHANGE\n",
       "TRBC Industry Group Name  Telecommunications Services\n",
       "GICS Sector Name               Communication Services\n",
       "Ticker Symbol                                     VOD"
      ]
     },
     "execution_count": 8,
     "metadata": {},
     "output_type": "execute_result"
    }
   ],
   "source": [
    "df = rd.get_data(ric.value, [\"TR.HeadquartersCountry\", \"TR.ExchangeName\",\n",
    "                 \"TR.TRBCIndustryGroup\", \"TR.GICSSector\", \"TR.TickerSymbol\"])\n",
    "df.transpose()"
   ]
  },
  {
   "cell_type": "markdown",
   "metadata": {},
   "source": [
    "### Earnings Estimate History"
   ]
  },
  {
   "cell_type": "code",
   "execution_count": 9,
   "metadata": {},
   "outputs": [
    {
     "data": {
      "text/html": [
       "<div>\n",
       "<style scoped>\n",
       "    .dataframe tbody tr th:only-of-type {\n",
       "        vertical-align: middle;\n",
       "    }\n",
       "\n",
       "    .dataframe tbody tr th {\n",
       "        vertical-align: top;\n",
       "    }\n",
       "\n",
       "    .dataframe thead th {\n",
       "        text-align: right;\n",
       "    }\n",
       "</style>\n",
       "<table border=\"1\" class=\"dataframe\">\n",
       "  <thead>\n",
       "    <tr style=\"text-align: right;\">\n",
       "      <th></th>\n",
       "      <th>Instrument</th>\n",
       "      <th>Calc Date</th>\n",
       "      <th>EPS Mean FY1</th>\n",
       "      <th>EPS Mean FY1 Num Est</th>\n",
       "      <th>EPS Mean FY2</th>\n",
       "      <th>EPS Mean FY2 Num Est</th>\n",
       "      <th>EPS Mean FY3</th>\n",
       "      <th>EPS Mean FY3 Num Est</th>\n",
       "      <th>EPS Mean FY4</th>\n",
       "      <th>EPS Mean FY4 Num Est</th>\n",
       "    </tr>\n",
       "  </thead>\n",
       "  <tbody>\n",
       "    <tr>\n",
       "      <th>0</th>\n",
       "      <td>VOD.L</td>\n",
       "      <td>2023-03-07</td>\n",
       "      <td>0.10156</td>\n",
       "      <td>16</td>\n",
       "      <td>0.09919</td>\n",
       "      <td>16</td>\n",
       "      <td>0.11208</td>\n",
       "      <td>13</td>\n",
       "      <td>0.11438</td>\n",
       "      <td>8</td>\n",
       "    </tr>\n",
       "  </tbody>\n",
       "</table>\n",
       "</div>"
      ],
      "text/plain": [
       "  Instrument   Calc Date  EPS Mean FY1  EPS Mean FY1 Num Est  EPS Mean FY2  \\\n",
       "0      VOD.L  2023-03-07       0.10156                    16       0.09919   \n",
       "\n",
       "   EPS Mean FY2 Num Est  EPS Mean FY3  EPS Mean FY3 Num Est  EPS Mean FY4  \\\n",
       "0                    16       0.11208                    13       0.11438   \n",
       "\n",
       "   EPS Mean FY4 Num Est  \n",
       "0                     8  "
      ]
     },
     "execution_count": 9,
     "metadata": {},
     "output_type": "execute_result"
    }
   ],
   "source": [
    "per = ('FQ' if period.value == 'Quarterly' else 'FY')\n",
    "df1 = rd.get_data(ric.value, ['TR.EPSMeanEstimate(period='+per+'1).calcdate', 'TR.EPSMeanEstimate(period='+per+'1)', 'TR.EPSNumIncEstimates(Period='+per+'1)',\n",
    "                              'TR.EPSMeanEstimate(period='+per +\n",
    "                              '2)', 'TR.EPSNumIncEstimates(Period='+per+'2)',\n",
    "                              'TR.EPSMeanEstimate(period='+per +\n",
    "                              '3)', 'TR.EPSNumIncEstimates(Period='+per+'3)',\n",
    "                              'TR.EPSMeanEstimate(period='+per+'4)', 'TR.EPSNumIncEstimates(Period='+per+'4)'],\n",
    "                  {'SDate': str(sD.value), 'EDate': str(eD.value), 'Frq': str(freq.value)})\n",
    "df1.columns = ['Instrument', 'Calc Date', 'EPS Mean '+per+'1', 'EPS Mean '+per+'1 Num Est', 'EPS Mean '+per+'2', 'EPS Mean ' +\n",
    "               per+'2 Num Est', 'EPS Mean '+per+'3', 'EPS Mean '+per+'3 Num Est', 'EPS Mean '+per+'4', 'EPS Mean '+per+'4 Num Est']\n",
    "df1"
   ]
  },
  {
   "cell_type": "code",
   "execution_count": 10,
   "metadata": {},
   "outputs": [],
   "source": [
    "rd.close_session()"
   ]
  },
  {
   "cell_type": "markdown",
   "metadata": {},
   "source": [
    "**Further Resources for Refinitiv Data Libraries API on Developer Community Portal**\n",
    "\n",
    "* [Overview](https://developers.refinitiv.com/en/api-catalog/refinitiv-data-platform/refinitiv-data-library-for-python) \n",
    "* [Quick Start ](https://developers.refinitiv.com/en/api-catalog/refinitiv-data-platform/refinitiv-data-library-for-python/quick-start)\n",
    "* [Documentation](https://developers.refinitiv.com/en/api-catalog/refinitiv-data-platform/refinitiv-data-library-for-python/documentation)\n",
    "* [Tutorials](https://developers.refinitiv.com/en/api-catalog/refinitiv-data-platform/refinitiv-data-library-for-python/tutorials)\n",
    "* [Q&A Forums](https://community.developers.refinitiv.com/spaces/321/index.html)"
   ]
  },
  {
   "cell_type": "code",
   "execution_count": null,
   "metadata": {},
   "outputs": [],
   "source": []
  }
 ],
 "metadata": {
  "kernelspec": {
   "display_name": "Python 3 (ipykernel)",
   "language": "python",
   "name": "python3"
  },
  "language_info": {
   "codemirror_mode": {
    "name": "ipython",
    "version": 3
   },
   "file_extension": ".py",
   "mimetype": "text/x-python",
   "name": "python",
   "nbconvert_exporter": "python",
   "pygments_lexer": "ipython3",
   "version": "3.9.13"
  },
  "vscode": {
   "interpreter": {
    "hash": "c85fff1d8f64dd81ed62580beef2fa8681baae0ff4c4324d6e96d73878a4932d"
   }
  },
  "widgets": {
   "application/vnd.jupyter.widget-state+json": {
    "state": {},
    "version_major": 2,
    "version_minor": 0
   }
  }
 },
 "nbformat": 4,
 "nbformat_minor": 4
}
