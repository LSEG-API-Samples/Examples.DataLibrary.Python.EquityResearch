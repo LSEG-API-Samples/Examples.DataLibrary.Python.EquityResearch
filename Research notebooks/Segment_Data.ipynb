{
 "cells": [
  {
   "cell_type": "markdown",
   "id": "c12ee8fe",
   "metadata": {},
   "source": [
    "# REFINITIV SEGMENT DATA TEMPLATE\n",
    "\n",
    "### Instructions\n",
    "\n",
    "Please input a valid RIC, select Metric and Period - after running the first and second cell below. Then you can run the rest of the notebook using shift+enter for each cell sequentially. This notebook will provide all of the information contained in the popular Eikon/Workspace template of the same name. This notebook shows segment data for 12 different metrics historcally. We also provide 3-period Mean Revenue Estimates for each segment. Note: not all companies report all these metrics- so if not available select another metric."
   ]
  },
  {
   "cell_type": "code",
   "execution_count": 1,
   "id": "d5f696dd",
   "metadata": {},
   "outputs": [
    {
     "data": {
      "text/plain": [
       "<refinitiv.data.session.Definition object at 0x15a4bbaf0 {name='workspace'}>"
      ]
     },
     "execution_count": 1,
     "metadata": {},
     "output_type": "execute_result"
    }
   ],
   "source": [
    "import refinitiv.data as rd\n",
    "import numpy as np\n",
    "import pandas as pd\n",
    "import ipywidgets as widgets\n",
    "from ipywidgets import Box, Label, Layout\n",
    "rd.open_session()"
   ]
  },
  {
   "cell_type": "code",
   "execution_count": 5,
   "id": "1d2cb1be",
   "metadata": {},
   "outputs": [
    {
     "data": {
      "application/vnd.jupyter.widget-view+json": {
       "model_id": "4c5691e1c9da4ac5bb74e6419c1194fc",
       "version_major": 2,
       "version_minor": 0
      },
      "text/plain": [
       "Box(children=(Text(value='', description='RIC:', placeholder='Type something'), Dropdown(description='Metric:'…"
      ]
     },
     "execution_count": 5,
     "metadata": {},
     "output_type": "execute_result"
    }
   ],
   "source": [
    "ric = widgets.Text(\n",
    "    value='',\n",
    "    placeholder='Type something',\n",
    "    description='RIC:',\n",
    "    disabled=False\n",
    ")\n",
    "\n",
    "mSel = widgets.Dropdown(\n",
    "    options=[('Geographic External Revenue', 'TR.BGS.GeoExternalRevenue'), ('Geographic Total Revenues (Calculated)', 'TR.BGS.GeoTotalRevenue'),\n",
    "             ('Geographic Gross Profit', 'TR.BGS.GeoGrossProfit'), ('Geographic EBIT',\n",
    "                                                                    'TR.BGS.GeoEarningsBeforeInterestandTaxesEbit'),\n",
    "             ('Geographic EBITDA', 'TR.BGS.GeoEarningsBeforeInterestTaxDeprAndAmortEbitda'), (\n",
    "                 'Geographic Income Before Tax', 'TR.BGS.GeoNetIncomeBeforeTaxes'),\n",
    "             ('Business External Revenue', 'TR.BGS.BusExternalRevenue'), (\n",
    "                 'Business Total Revenues (Calculated)', 'TR.BGS.BusTotalRevenue'),\n",
    "             ('Business Gross Profit', 'TR.BGS.BusGrossProfit'), ('Business EBIT',\n",
    "                                                                  'TR.BGS.BusEarningsBeforeInterestandTaxesEbit'),\n",
    "             ('Business EBITDA', 'TR.BGS.BusEarningsBeforeInterestTaxDeprAndAmortEbitda'), (\n",
    "                 'Business Income Before Tax', 'TR.BGS.BusNetIncomeBeforeTaxes')\n",
    "             ],\n",
    "    value='TR.BGS.GeoExternalRevenue',\n",
    "    description='Metric:',\n",
    "    disabled=False\n",
    ")\n",
    "\n",
    "pSel = widgets.Dropdown(\n",
    "    options=['Annual', 'Interim'],\n",
    "    value='Annual',\n",
    "    description='Period:',\n",
    "    disabled=False\n",
    ")\n",
    "\n",
    "box_layout = Layout(display='flex',\n",
    "                    flex_flow='row wrap',\n",
    "                    align_items='stretch',\n",
    "                    border='solid',\n",
    "                    width='100%')\n",
    "\n",
    "items = [ric, mSel, pSel]\n",
    "box = Box(children=items, layout=box_layout)\n",
    "\n",
    "box"
   ]
  },
  {
   "cell_type": "markdown",
   "id": "5f821a9e",
   "metadata": {},
   "source": [
    "### GET HISTORY"
   ]
  },
  {
   "cell_type": "code",
   "execution_count": 7,
   "id": "7bbc610a",
   "metadata": {},
   "outputs": [
    {
     "name": "stdout",
     "output_type": "stream",
     "text": [
      "Metric: Geographic External Revenue\n"
     ]
    },
    {
     "data": {
      "text/html": [
       "<div>\n",
       "<style scoped>\n",
       "    .dataframe tbody tr th:only-of-type {\n",
       "        vertical-align: middle;\n",
       "    }\n",
       "\n",
       "    .dataframe tbody tr th {\n",
       "        vertical-align: top;\n",
       "    }\n",
       "\n",
       "    .dataframe thead th {\n",
       "        text-align: right;\n",
       "    }\n",
       "</style>\n",
       "<table border=\"1\" class=\"dataframe\">\n",
       "  <thead>\n",
       "    <tr style=\"text-align: right;\">\n",
       "      <th></th>\n",
       "      <th>Period End Date</th>\n",
       "      <th>2012-06-30</th>\n",
       "      <th>2013-06-30</th>\n",
       "      <th>2014-06-30</th>\n",
       "      <th>2015-06-30</th>\n",
       "      <th>2016-06-30</th>\n",
       "      <th>2017-06-30</th>\n",
       "      <th>2018-06-30</th>\n",
       "      <th>2019-06-30</th>\n",
       "      <th>2020-06-30</th>\n",
       "      <th>2021-06-30</th>\n",
       "      <th>2022-06-30</th>\n",
       "    </tr>\n",
       "    <tr>\n",
       "      <th>Segment Order</th>\n",
       "      <th>Segment Name</th>\n",
       "      <th></th>\n",
       "      <th></th>\n",
       "      <th></th>\n",
       "      <th></th>\n",
       "      <th></th>\n",
       "      <th></th>\n",
       "      <th></th>\n",
       "      <th></th>\n",
       "      <th></th>\n",
       "      <th></th>\n",
       "      <th></th>\n",
       "    </tr>\n",
       "  </thead>\n",
       "  <tbody>\n",
       "    <tr>\n",
       "      <th>1</th>\n",
       "      <th>United States</th>\n",
       "      <td>38846</td>\n",
       "      <td>41344</td>\n",
       "      <td>43474</td>\n",
       "      <td>42941</td>\n",
       "      <td>46416</td>\n",
       "      <td>51078</td>\n",
       "      <td>55926</td>\n",
       "      <td>64199</td>\n",
       "      <td>73160</td>\n",
       "      <td>83953</td>\n",
       "      <td>100218</td>\n",
       "    </tr>\n",
       "    <tr>\n",
       "      <th>7</th>\n",
       "      <th>Other countries</th>\n",
       "      <td>34877</td>\n",
       "      <td>36505</td>\n",
       "      <td>43359</td>\n",
       "      <td>50639</td>\n",
       "      <td>44738</td>\n",
       "      <td>45493</td>\n",
       "      <td>54434</td>\n",
       "      <td>61644</td>\n",
       "      <td>69855</td>\n",
       "      <td>84135</td>\n",
       "      <td>98052</td>\n",
       "    </tr>\n",
       "    <tr>\n",
       "      <th>8</th>\n",
       "      <th>Segment Total</th>\n",
       "      <td>73723</td>\n",
       "      <td>77849</td>\n",
       "      <td>86833</td>\n",
       "      <td>93580</td>\n",
       "      <td>91154</td>\n",
       "      <td>96571</td>\n",
       "      <td>110360</td>\n",
       "      <td>125843</td>\n",
       "      <td>143015</td>\n",
       "      <td>168088</td>\n",
       "      <td>198270</td>\n",
       "    </tr>\n",
       "    <tr>\n",
       "      <th>10</th>\n",
       "      <th>Consolidated Total</th>\n",
       "      <td>73723</td>\n",
       "      <td>77849</td>\n",
       "      <td>86833</td>\n",
       "      <td>93580</td>\n",
       "      <td>91154</td>\n",
       "      <td>96571</td>\n",
       "      <td>110360</td>\n",
       "      <td>125843</td>\n",
       "      <td>143015</td>\n",
       "      <td>168088</td>\n",
       "      <td>198270</td>\n",
       "    </tr>\n",
       "  </tbody>\n",
       "</table>\n",
       "</div>"
      ],
      "text/plain": [
       "Period End Date                   2012-06-30  2013-06-30  2014-06-30  \\\n",
       "Segment Order Segment Name                                             \n",
       "1             United States            38846       41344       43474   \n",
       "7             Other countries          34877       36505       43359   \n",
       "8             Segment Total            73723       77849       86833   \n",
       "10            Consolidated Total       73723       77849       86833   \n",
       "\n",
       "Period End Date                   2015-06-30  2016-06-30  2017-06-30  \\\n",
       "Segment Order Segment Name                                             \n",
       "1             United States            42941       46416       51078   \n",
       "7             Other countries          50639       44738       45493   \n",
       "8             Segment Total            93580       91154       96571   \n",
       "10            Consolidated Total       93580       91154       96571   \n",
       "\n",
       "Period End Date                   2018-06-30  2019-06-30  2020-06-30  \\\n",
       "Segment Order Segment Name                                             \n",
       "1             United States            55926       64199       73160   \n",
       "7             Other countries          54434       61644       69855   \n",
       "8             Segment Total           110360      125843      143015   \n",
       "10            Consolidated Total      110360      125843      143015   \n",
       "\n",
       "Period End Date                   2021-06-30  2022-06-30  \n",
       "Segment Order Segment Name                                \n",
       "1             United States            83953      100218  \n",
       "7             Other countries          84135       98052  \n",
       "8             Segment Total           168088      198270  \n",
       "10            Consolidated Total      168088      198270  "
      ]
     },
     "metadata": {},
     "output_type": "display_data"
    }
   ],
   "source": [
    "if pSel.value == 'Annual':\n",
    "    if mSel.value == 'TR.BGS.BusGrossProfit':\n",
    "        suffix = ''\n",
    "    else:\n",
    "        suffix = '(Scale=6)'\n",
    "\n",
    "    df3 = rd.get_data(ric.value, [''+mSel.value+'.periodenddate', ''+mSel.value+'.segmentdetailsorder', ''+mSel.value +\n",
    "                      '.segmentName', ''+mSel.value+suffix], {'Period': 'FY0', 'Sdate': 'FY0', 'Edate': 'FY-10', 'FRQ': 'FY'})\n",
    "else:\n",
    "    df3 = rd.get_data(ric.value, [''+mSel.value+'.periodenddate', ''+mSel.value+'.segmentdetailsorder', ''+mSel.value +\n",
    "                      '.segmentName', ''+mSel.value+suffix], {'Period': 'FI0', 'Sdate': 'FI0', 'Edate': 'FI-10', 'FRQ': 'FI'})\n",
    "\n",
    "try:\n",
    "    print('Metric: ' + mSel.label)\n",
    "    display(df3.pivot(index=['Segment Order', 'Segment Name'],\n",
    "            columns='Period End Date', values=mSel.label))\n",
    "except:\n",
    "    print(\"Metric not available for this instrument, please select another metric\")"
   ]
  },
  {
   "cell_type": "markdown",
   "id": "e26beebd",
   "metadata": {},
   "source": [
    "### GET MEAN SEGMENT REVENUE ESTIMATES"
   ]
  },
  {
   "cell_type": "code",
   "execution_count": 8,
   "id": "70ab0619",
   "metadata": {},
   "outputs": [
    {
     "data": {
      "text/html": [
       "<div>\n",
       "<style scoped>\n",
       "    .dataframe tbody tr th:only-of-type {\n",
       "        vertical-align: middle;\n",
       "    }\n",
       "\n",
       "    .dataframe tbody tr th {\n",
       "        vertical-align: top;\n",
       "    }\n",
       "\n",
       "    .dataframe thead th {\n",
       "        text-align: right;\n",
       "    }\n",
       "</style>\n",
       "<table border=\"1\" class=\"dataframe\">\n",
       "  <thead>\n",
       "    <tr style=\"text-align: right;\">\n",
       "      <th></th>\n",
       "      <th>Instrument</th>\n",
       "      <th>Segment Name</th>\n",
       "      <th>Mean Revenue Estimate FY1</th>\n",
       "      <th>Mean Revenue Estimate FY2</th>\n",
       "      <th>Mean Revenue Estimate FY3</th>\n",
       "    </tr>\n",
       "  </thead>\n",
       "  <tbody>\n",
       "    <tr>\n",
       "      <th>0</th>\n",
       "      <td>MSFT.O</td>\n",
       "      <td>Productivity and Business Processes</td>\n",
       "      <td>68357346150</td>\n",
       "      <td>74953560000</td>\n",
       "      <td>81468818180</td>\n",
       "    </tr>\n",
       "    <tr>\n",
       "      <th>1</th>\n",
       "      <td>MSFT.O</td>\n",
       "      <td>More Personal Computing</td>\n",
       "      <td>53247038460</td>\n",
       "      <td>54944680000</td>\n",
       "      <td>58087090910</td>\n",
       "    </tr>\n",
       "    <tr>\n",
       "      <th>2</th>\n",
       "      <td>MSFT.O</td>\n",
       "      <td>Intelligent Cloud</td>\n",
       "      <td>87675115390</td>\n",
       "      <td>101677400000</td>\n",
       "      <td>119372545460</td>\n",
       "    </tr>\n",
       "  </tbody>\n",
       "</table>\n",
       "</div>"
      ],
      "text/plain": [
       "  Instrument                         Segment Name  Mean Revenue Estimate FY1  \\\n",
       "0     MSFT.O  Productivity and Business Processes                68357346150   \n",
       "1     MSFT.O              More Personal Computing                53247038460   \n",
       "2     MSFT.O                    Intelligent Cloud                87675115390   \n",
       "\n",
       "   Mean Revenue Estimate FY2  Mean Revenue Estimate FY3  \n",
       "0                74953560000                81468818180  \n",
       "1                54944680000                58087090910  \n",
       "2               101677400000               119372545460  "
      ]
     },
     "metadata": {},
     "output_type": "display_data"
    }
   ],
   "source": [
    "if pSel.value == 'Annual':\n",
    "    df4 = rd.get_data(ric.value, ['TR.SegmentRevenueMean(Period=\"FY1\").brandname', 'TR.SegmentRevenueMean(Period=\"FY1\")',\n",
    "                      'TR.SegmentRevenueMean(Period=\"FY2\")', 'TR.SegmentRevenueMean(Period=\"FY3\")'])\n",
    "    df4.columns = ['Instrument', 'Segment Name', 'Mean Revenue Estimate FY1',\n",
    "                   'Mean Revenue Estimate FY2', 'Mean Revenue Estimate FY3']\n",
    "    display(df4)\n",
    "else:\n",
    "    df4 = rd.get_data(ric.value, ['TR.SegmentRevenueMean(Period=\"FI1\").brandname', 'TR.SegmentRevenueMean(Period=\"FI1\")',\n",
    "                      'TR.SegmentRevenueMean(Period=\"FI2\")', 'TR.SegmentRevenueMean(Period=\"FI3\")'])\n",
    "    df4.columns = ['Instrument', 'Segment Name', 'Mean Revenue Estimate FI1',\n",
    "                   'Mean Revenue Estimate FI2', 'Mean Revenue Estimate FI3']\n",
    "    display(df4)"
   ]
  },
  {
   "cell_type": "code",
   "execution_count": 9,
   "id": "1ea6acd0-5526-4d60-8c31-71cf2aee5c73",
   "metadata": {},
   "outputs": [],
   "source": [
    "rd.close_session()"
   ]
  },
  {
   "cell_type": "markdown",
   "id": "043c7abd",
   "metadata": {},
   "source": [
    "**Further Resources for Refinitiv Data Libraries API on Developer Community Portal**\n",
    "\n",
    "* [Overview](https://developers.refinitiv.com/en/api-catalog/refinitiv-data-platform/refinitiv-data-library-for-python) \n",
    "* [Quick Start ](https://developers.refinitiv.com/en/api-catalog/refinitiv-data-platform/refinitiv-data-library-for-python/quick-start)\n",
    "* [Documentation](https://developers.refinitiv.com/en/api-catalog/refinitiv-data-platform/refinitiv-data-library-for-python/documentation)\n",
    "* [Tutorials](https://developers.refinitiv.com/en/api-catalog/refinitiv-data-platform/refinitiv-data-library-for-python/tutorials)\n",
    "* [Q&A Forums](https://community.developers.refinitiv.com/spaces/321/index.html)"
   ]
  },
  {
   "cell_type": "code",
   "execution_count": null,
   "id": "7062c15e-d6a5-49bd-aed0-dc7e512c0a5a",
   "metadata": {},
   "outputs": [],
   "source": []
  }
 ],
 "metadata": {
  "kernelspec": {
   "display_name": "Python 3 (ipykernel)",
   "language": "python",
   "name": "python3"
  },
  "language_info": {
   "codemirror_mode": {
    "name": "ipython",
    "version": 3
   },
   "file_extension": ".py",
   "mimetype": "text/x-python",
   "name": "python",
   "nbconvert_exporter": "python",
   "pygments_lexer": "ipython3",
   "version": "3.9.13"
  },
  "widgets": {
   "application/vnd.jupyter.widget-state+json": {
    "state": {},
    "version_major": 2,
    "version_minor": 0
   }
  }
 },
 "nbformat": 4,
 "nbformat_minor": 5
}
