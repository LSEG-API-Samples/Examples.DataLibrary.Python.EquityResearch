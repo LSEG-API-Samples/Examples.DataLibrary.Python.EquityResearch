{
 "cells": [
  {
   "cell_type": "markdown",
   "metadata": {},
   "source": [
    "# REFINITIV ESTIMATES SURPRISE\n",
    "\n",
    "### Instructions\n",
    "\n",
    "Please input a valid RIC after running the first and second cell below. Then you can run the rest of the notebook using shift+enter for each cell sequentially. \n",
    "\n",
    "This notebook will provide all of the information contained in the popular Eikon/Workspace template of the same name. This includes some general information about the RIC you selected and the Estimate surprises for 21 measures that you can select via the dropdown widget. "
   ]
  },
  {
   "cell_type": "code",
   "execution_count": 2,
   "metadata": {},
   "outputs": [
    {
     "data": {
      "text/plain": [
       "<refinitiv.data.session.Definition object at 0x169bee1f0 {name='workspace'}>"
      ]
     },
     "execution_count": 2,
     "metadata": {},
     "output_type": "execute_result"
    }
   ],
   "source": [
    "import refinitiv.data as rd\n",
    "import numpy as np\n",
    "import pandas as pd\n",
    "import ipywidgets as widgets\n",
    "from ipywidgets import Box, Layout\n",
    "import matplotlib as plt\n",
    "import warnings\n",
    "%matplotlib inline\n",
    "\n",
    "plt.style.use(\"seaborn\")\n",
    "warnings.filterwarnings(\"ignore\")\n",
    "rd.open_session()"
   ]
  },
  {
   "cell_type": "code",
   "execution_count": 3,
   "metadata": {},
   "outputs": [
    {
     "data": {
      "application/vnd.jupyter.widget-view+json": {
       "model_id": "0325072dc74c42b2ade05a87439959e2",
       "version_major": 2,
       "version_minor": 0
      },
      "text/plain": [
       "Box(children=(Text(value='', description='RIC:', placeholder='Type something'),), layout=Layout(align_items='s…"
      ]
     },
     "execution_count": 3,
     "metadata": {},
     "output_type": "execute_result"
    }
   ],
   "source": [
    "ric = widgets.Text(\n",
    "    value='',\n",
    "    placeholder='Type something',\n",
    "    description='RIC:',\n",
    "    disabled=False\n",
    ")\n",
    "\n",
    "box_layout = Layout(display='flex',\n",
    "                    flex_flow='row wrap',\n",
    "                    align_items='stretch',\n",
    "                    border='solid',\n",
    "                    width='100%')\n",
    "\n",
    "items = [ric]\n",
    "box = Box(children=items, layout=box_layout)\n",
    "\n",
    "box"
   ]
  },
  {
   "cell_type": "markdown",
   "metadata": {},
   "source": [
    "### About"
   ]
  },
  {
   "cell_type": "code",
   "execution_count": 4,
   "metadata": {},
   "outputs": [
    {
     "data": {
      "text/html": [
       "<div>\n",
       "<style scoped>\n",
       "    .dataframe tbody tr th:only-of-type {\n",
       "        vertical-align: middle;\n",
       "    }\n",
       "\n",
       "    .dataframe tbody tr th {\n",
       "        vertical-align: top;\n",
       "    }\n",
       "\n",
       "    .dataframe thead th {\n",
       "        text-align: right;\n",
       "    }\n",
       "</style>\n",
       "<table border=\"1\" class=\"dataframe\">\n",
       "  <thead>\n",
       "    <tr style=\"text-align: right;\">\n",
       "      <th></th>\n",
       "      <th>0</th>\n",
       "    </tr>\n",
       "  </thead>\n",
       "  <tbody>\n",
       "    <tr>\n",
       "      <th>Instrument</th>\n",
       "      <td>VOD.L</td>\n",
       "    </tr>\n",
       "    <tr>\n",
       "      <th>Country of Headquarters</th>\n",
       "      <td>United Kingdom</td>\n",
       "    </tr>\n",
       "    <tr>\n",
       "      <th>Exchange Name</th>\n",
       "      <td>LONDON STOCK EXCHANGE</td>\n",
       "    </tr>\n",
       "    <tr>\n",
       "      <th>TRBC Industry Group Name</th>\n",
       "      <td>Telecommunications Services</td>\n",
       "    </tr>\n",
       "    <tr>\n",
       "      <th>GICS Sector Name</th>\n",
       "      <td>Communication Services</td>\n",
       "    </tr>\n",
       "    <tr>\n",
       "      <th>Ticker Symbol</th>\n",
       "      <td>VOD</td>\n",
       "    </tr>\n",
       "  </tbody>\n",
       "</table>\n",
       "</div>"
      ],
      "text/plain": [
       "                                                    0\n",
       "Instrument                                      VOD.L\n",
       "Country of Headquarters                United Kingdom\n",
       "Exchange Name                   LONDON STOCK EXCHANGE\n",
       "TRBC Industry Group Name  Telecommunications Services\n",
       "GICS Sector Name               Communication Services\n",
       "Ticker Symbol                                     VOD"
      ]
     },
     "execution_count": 4,
     "metadata": {},
     "output_type": "execute_result"
    }
   ],
   "source": [
    "df = rd.get_data(ric.value, [\"TR.HeadquartersCountry\", \"TR.ExchangeName\",\n",
    "                 \"TR.TRBCIndustryGroup\", \"TR.GICSSector\", \"TR.TickerSymbol\"])\n",
    "df.transpose()"
   ]
  },
  {
   "cell_type": "markdown",
   "metadata": {},
   "source": [
    "### General Information"
   ]
  },
  {
   "cell_type": "code",
   "execution_count": 5,
   "metadata": {},
   "outputs": [
    {
     "data": {
      "text/html": [
       "<div>\n",
       "<style scoped>\n",
       "    .dataframe tbody tr th:only-of-type {\n",
       "        vertical-align: middle;\n",
       "    }\n",
       "\n",
       "    .dataframe tbody tr th {\n",
       "        vertical-align: top;\n",
       "    }\n",
       "\n",
       "    .dataframe thead th {\n",
       "        text-align: right;\n",
       "    }\n",
       "</style>\n",
       "<table border=\"1\" class=\"dataframe\">\n",
       "  <thead>\n",
       "    <tr style=\"text-align: right;\">\n",
       "      <th></th>\n",
       "      <th>0</th>\n",
       "    </tr>\n",
       "  </thead>\n",
       "  <tbody>\n",
       "    <tr>\n",
       "      <th>Instrument</th>\n",
       "      <td>VOD.L</td>\n",
       "    </tr>\n",
       "    <tr>\n",
       "      <th>Price Close</th>\n",
       "      <td>101.22</td>\n",
       "    </tr>\n",
       "    <tr>\n",
       "      <th>Price 52 Week High</th>\n",
       "      <td>132.3</td>\n",
       "    </tr>\n",
       "    <tr>\n",
       "      <th>Price 52 Week Low</th>\n",
       "      <td>83.237</td>\n",
       "    </tr>\n",
       "    <tr>\n",
       "      <th>Income Statement Period End Date</th>\n",
       "      <td>2022-03-31</td>\n",
       "    </tr>\n",
       "  </tbody>\n",
       "</table>\n",
       "</div>"
      ],
      "text/plain": [
       "                                           0\n",
       "Instrument                             VOD.L\n",
       "Price Close                           101.22\n",
       "Price 52 Week High                     132.3\n",
       "Price 52 Week Low                     83.237\n",
       "Income Statement Period End Date  2022-03-31"
      ]
     },
     "execution_count": 5,
     "metadata": {},
     "output_type": "execute_result"
    }
   ],
   "source": [
    "df1 = rd.get_data(ric.value, ['TR.PriceClose', 'TR.Price52WeekHigh',\n",
    "                  'TR.Price52WeekLow', 'TR.ISPeriodEndDate(Period=FY0)'])\n",
    "df1.transpose()"
   ]
  },
  {
   "cell_type": "code",
   "execution_count": 6,
   "metadata": {},
   "outputs": [
    {
     "data": {
      "text/html": [
       "<div>\n",
       "<style scoped>\n",
       "    .dataframe tbody tr th:only-of-type {\n",
       "        vertical-align: middle;\n",
       "    }\n",
       "\n",
       "    .dataframe tbody tr th {\n",
       "        vertical-align: top;\n",
       "    }\n",
       "\n",
       "    .dataframe thead th {\n",
       "        text-align: right;\n",
       "    }\n",
       "</style>\n",
       "<table border=\"1\" class=\"dataframe\">\n",
       "  <thead>\n",
       "    <tr style=\"text-align: right;\">\n",
       "      <th></th>\n",
       "      <th>0</th>\n",
       "    </tr>\n",
       "  </thead>\n",
       "  <tbody>\n",
       "    <tr>\n",
       "      <th>Instrument</th>\n",
       "      <td>VOD.L</td>\n",
       "    </tr>\n",
       "    <tr>\n",
       "      <th>Dividend yield</th>\n",
       "      <td>7.650978</td>\n",
       "    </tr>\n",
       "    <tr>\n",
       "      <th>Company Market Cap</th>\n",
       "      <td>27370.82875</td>\n",
       "    </tr>\n",
       "    <tr>\n",
       "      <th>Price Target - Median</th>\n",
       "      <td>114.72243</td>\n",
       "    </tr>\n",
       "    <tr>\n",
       "      <th>Income Statement Period End Date</th>\n",
       "      <td>2022-09-30</td>\n",
       "    </tr>\n",
       "  </tbody>\n",
       "</table>\n",
       "</div>"
      ],
      "text/plain": [
       "                                            0\n",
       "Instrument                              VOD.L\n",
       "Dividend yield                       7.650978\n",
       "Company Market Cap                27370.82875\n",
       "Price Target - Median               114.72243\n",
       "Income Statement Period End Date   2022-09-30"
      ]
     },
     "execution_count": 6,
     "metadata": {},
     "output_type": "execute_result"
    }
   ],
   "source": [
    "df2 = rd.get_data(ric.value, ['TR.DividendYield', 'TR.CompanyMarketCap(Scale=6)',\n",
    "                  'TR.PriceTargetMedian', 'TR.ISPeriodEndDate(Period=FI0)'])\n",
    "df2.transpose()"
   ]
  },
  {
   "cell_type": "code",
   "execution_count": 7,
   "metadata": {},
   "outputs": [
    {
     "data": {
      "application/vnd.jupyter.widget-view+json": {
       "model_id": "4a2fa7939f294612a9c8797a208bb5ee",
       "version_major": 2,
       "version_minor": 0
      },
      "text/plain": [
       "Box(children=(Dropdown(description='Metric:', options=(('Book Value per Share', 'BVPS'), ('Capital Expenditure…"
      ]
     },
     "execution_count": 7,
     "metadata": {},
     "output_type": "execute_result"
    }
   ],
   "source": [
    "mSel = widgets.Dropdown(\n",
    "    options=[('Book Value per Share', 'BVPS'), ('Capital Expenditure', 'Capex'), ('Cash Earnings per Share', 'EPSCash'),\n",
    "             ('Cash Flow per Share', 'CFPS'), ('Dividend per Share',\n",
    "                                               'DPS'), ('EBIT', 'EBIT'), ('EBITDA', 'EBITDA'),\n",
    "             ('EBITDA per Share', 'EBITDAPS'), ('Enterprise Value',\n",
    "                                                'EV'), ('EPS', 'EPS'), ('EPS -Fully Reported', 'EPSFR'),\n",
    "             ('Funds Flow from Operations', 'FFO'), ('Gross Margin',\n",
    "                                                     'GPM'), ('Net Asset Value', 'NetAssetValue'),\n",
    "             ('Net Debt', 'NetDebt'), ('Net Income',\n",
    "                                       'NetDebt'), ('Operating Profit', 'OProfit'),\n",
    "             ('Pre-tax Profit', 'PreTaxProfit'), ('Revenue', 'Revenue'), ('ROA', 'ROA'), ('ROE', 'ROE')],\n",
    "    value='BVPS',\n",
    "    description='Metric:',\n",
    "    disabled=False\n",
    ")\n",
    "\n",
    "pSel = widgets.Dropdown(\n",
    "    options=['Annual', 'Interim'],\n",
    "    value='Annual',\n",
    "    description='Period:',\n",
    "    disabled=False\n",
    ")\n",
    "\n",
    "cSel = widgets.Dropdown(\n",
    "    options=['USD', 'EUR', 'GBP', 'CAD', 'RUB', 'CNY', 'INR', 'JPY'],\n",
    "    value='GBP',\n",
    "    description='Curn:',\n",
    "    disabled=False\n",
    ")\n",
    "\n",
    "box_layout = Layout(display='flex',\n",
    "                    flex_flow='row wrap',\n",
    "                    align_items='stretch',\n",
    "                    border='solid',\n",
    "                    width='100%')\n",
    "\n",
    "items2 = [mSel, pSel, cSel]\n",
    "box2 = Box(children=items2, layout=box_layout)\n",
    "box2"
   ]
  },
  {
   "cell_type": "code",
   "execution_count": 8,
   "metadata": {},
   "outputs": [
    {
     "data": {
      "text/html": [
       "<div>\n",
       "<style scoped>\n",
       "    .dataframe tbody tr th:only-of-type {\n",
       "        vertical-align: middle;\n",
       "    }\n",
       "\n",
       "    .dataframe tbody tr th {\n",
       "        vertical-align: top;\n",
       "    }\n",
       "\n",
       "    .dataframe thead th {\n",
       "        text-align: right;\n",
       "    }\n",
       "</style>\n",
       "<table border=\"1\" class=\"dataframe\">\n",
       "  <thead>\n",
       "    <tr style=\"text-align: right;\">\n",
       "      <th></th>\n",
       "      <th>Instrument</th>\n",
       "      <th>Book Value Per Share - Actual</th>\n",
       "      <th>Report Date</th>\n",
       "      <th>Book Value Per Share - Actual</th>\n",
       "      <th>Book Value Per Share - Actual Surprise</th>\n",
       "      <th>Book Value Per Share - Standard Unexpected Earnings</th>\n",
       "      <th>Book Value Per Share - Number of Estimates</th>\n",
       "    </tr>\n",
       "  </thead>\n",
       "  <tbody>\n",
       "    <tr>\n",
       "      <th>0</th>\n",
       "      <td>VOD.L</td>\n",
       "      <td>1.628454</td>\n",
       "      <td>2022-05-17T05:40:00Z</td>\n",
       "      <td>1.628454</td>\n",
       "      <td>-0.116</td>\n",
       "      <td>-0.02489</td>\n",
       "      <td>10</td>\n",
       "    </tr>\n",
       "    <tr>\n",
       "      <th>1</th>\n",
       "      <td>VOD.L</td>\n",
       "      <td>1.627955</td>\n",
       "      <td>2021-05-18T07:00:00Z</td>\n",
       "      <td>1.627955</td>\n",
       "      <td>-12.052</td>\n",
       "      <td>-1.65379</td>\n",
       "      <td>11</td>\n",
       "    </tr>\n",
       "    <tr>\n",
       "      <th>2</th>\n",
       "      <td>VOD.L</td>\n",
       "      <td>1.849106</td>\n",
       "      <td>2020-05-12T07:00:00Z</td>\n",
       "      <td>1.849106</td>\n",
       "      <td>-5.032</td>\n",
       "      <td>-0.50147</td>\n",
       "      <td>11</td>\n",
       "    </tr>\n",
       "    <tr>\n",
       "      <th>3</th>\n",
       "      <td>VOD.L</td>\n",
       "      <td>2.024913</td>\n",
       "      <td>2019-05-14T07:01:00Z</td>\n",
       "      <td>2.024913</td>\n",
       "      <td>-0.343</td>\n",
       "      <td>-0.03725</td>\n",
       "      <td>12</td>\n",
       "    </tr>\n",
       "    <tr>\n",
       "      <th>4</th>\n",
       "      <td>VOD.L</td>\n",
       "      <td>2.057268</td>\n",
       "      <td>2018-05-15T15:02:00Z</td>\n",
       "      <td>2.057268</td>\n",
       "      <td>-6.629</td>\n",
       "      <td>-1.61924</td>\n",
       "      <td>12</td>\n",
       "    </tr>\n",
       "  </tbody>\n",
       "</table>\n",
       "</div>"
      ],
      "text/plain": [
       "  Instrument  Book Value Per Share - Actual           Report Date  \\\n",
       "0      VOD.L                       1.628454  2022-05-17T05:40:00Z   \n",
       "1      VOD.L                       1.627955  2021-05-18T07:00:00Z   \n",
       "2      VOD.L                       1.849106  2020-05-12T07:00:00Z   \n",
       "3      VOD.L                       2.024913  2019-05-14T07:01:00Z   \n",
       "4      VOD.L                       2.057268  2018-05-15T15:02:00Z   \n",
       "\n",
       "   Book Value Per Share - Actual  Book Value Per Share - Actual Surprise  \\\n",
       "0                       1.628454                                  -0.116   \n",
       "1                       1.627955                                 -12.052   \n",
       "2                       1.849106                                  -5.032   \n",
       "3                       2.024913                                  -0.343   \n",
       "4                       2.057268                                  -6.629   \n",
       "\n",
       "   Book Value Per Share - Standard Unexpected Earnings  \\\n",
       "0                                           -0.02489     \n",
       "1                                           -1.65379     \n",
       "2                                           -0.50147     \n",
       "3                                           -0.03725     \n",
       "4                                           -1.61924     \n",
       "\n",
       "   Book Value Per Share - Number of Estimates  \n",
       "0                                          10  \n",
       "1                                          11  \n",
       "2                                          11  \n",
       "3                                          12  \n",
       "4                                          12  "
      ]
     },
     "execution_count": 8,
     "metadata": {},
     "output_type": "execute_result"
    }
   ],
   "source": [
    "if pSel.value == 'Annual':\n",
    "    df3 = rd.get_data(ric.value, ['TR.'+mSel.value+'ActValue', 'TR.'+mSel.value+'ActReportDate',\n",
    "                                  'TR.'+mSel.value+'MeanEstimate', 'TR.'+mSel.value+'ActValue',\n",
    "                                  'TR.'+mSel.value+'ActSurprise', 'TR.'+mSel.value+'ActSueScore',\n",
    "                                  'TR.'+mSel.value+'NumofEstimates'], {'Period': 'FY0', 'Sdate': 'FY0', 'Edate': 'FY-4',\n",
    "                                                                       'FRQ': 'FY', 'Curn': cSel.value})\n",
    "else:\n",
    "    df3 = rd.get_data(ric.value, ['TR.'+mSel.value+'ActValue', 'TR.'+mSel.value+'ActReportDate',\n",
    "                                  'TR.'+mSel.value+'MeanEstimate', 'TR.'+mSel.value+'ActValue',\n",
    "                                  'TR.'+mSel.value+'ActSurprise', 'TR.'+mSel.value+'ActSueScore',\n",
    "                                  'TR.'+mSel.value+'NumofEstimates'], {'Period': 'FI0', 'Sdate': 'FI0', 'Edate': 'FI-19',\n",
    "                                                                       'FRQ': 'FI', 'Curn': cSel.value})\n",
    "df3"
   ]
  },
  {
   "cell_type": "code",
   "execution_count": 9,
   "metadata": {},
   "outputs": [],
   "source": [
    "rd.close_session()"
   ]
  },
  {
   "cell_type": "markdown",
   "metadata": {},
   "source": [
    "**Further Resources for Refinitiv Data Libraries API on Developer Community Portal**\n",
    "\n",
    "* [Overview](https://developers.refinitiv.com/en/api-catalog/refinitiv-data-platform/refinitiv-data-library-for-python) \n",
    "* [Quick Start ](https://developers.refinitiv.com/en/api-catalog/refinitiv-data-platform/refinitiv-data-library-for-python/quick-start)\n",
    "* [Documentation](https://developers.refinitiv.com/en/api-catalog/refinitiv-data-platform/refinitiv-data-library-for-python/documentation)\n",
    "* [Tutorials](https://developers.refinitiv.com/en/api-catalog/refinitiv-data-platform/refinitiv-data-library-for-python/tutorials)\n",
    "* [Q&A Forums](https://community.developers.refinitiv.com/spaces/321/index.html)"
   ]
  }
 ],
 "metadata": {
  "kernelspec": {
   "display_name": "Python 3 (ipykernel)",
   "language": "python",
   "name": "python3"
  },
  "language_info": {
   "codemirror_mode": {
    "name": "ipython",
    "version": 3
   },
   "file_extension": ".py",
   "mimetype": "text/x-python",
   "name": "python",
   "nbconvert_exporter": "python",
   "pygments_lexer": "ipython3",
   "version": "3.9.13"
  },
  "vscode": {
   "interpreter": {
    "hash": "c85fff1d8f64dd81ed62580beef2fa8681baae0ff4c4324d6e96d73878a4932d"
   }
  },
  "widgets": {
   "application/vnd.jupyter.widget-state+json": {
    "state": {},
    "version_major": 2,
    "version_minor": 0
   }
  }
 },
 "nbformat": 4,
 "nbformat_minor": 4
}
