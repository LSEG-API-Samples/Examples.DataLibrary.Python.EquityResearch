{
 "cells": [
  {
   "cell_type": "markdown",
   "metadata": {},
   "source": [
    "# REFINITIV ANALYST CONSENSUS\n",
    "\n",
    "### Instructions\n",
    "\n",
    "Please input a valid RIC after running the first and second cell below. Then you can run the rest of the notebook using shift+enter for each cell sequentially. \n",
    "\n",
    "This notebook will provide all of the information contained in the popular Eikon/Workspace template of the same name. This includes some general information about the company, growth, valuation, and then a dropdown selector allows you to select details for 12 consensus estimate measures. "
   ]
  },
  {
   "cell_type": "code",
   "execution_count": 14,
   "metadata": {},
   "outputs": [
    {
     "data": {
      "text/plain": [
       "<refinitiv.data.session.Definition object at 0x17634fee0 {name='workspace'}>"
      ]
     },
     "execution_count": 14,
     "metadata": {},
     "output_type": "execute_result"
    }
   ],
   "source": [
    "import refinitiv.data as rd\n",
    "import numpy as np\n",
    "import pandas as pd\n",
    "import ipywidgets as widgets\n",
    "from ipywidgets import Box\n",
    "import matplotlib as plt\n",
    "import warnings\n",
    "%matplotlib inline\n",
    "plt.style.use(\"seaborn\")\n",
    "warnings.filterwarnings(\"ignore\")\n",
    "\n",
    "rd.open_session()"
   ]
  },
  {
   "cell_type": "markdown",
   "metadata": {},
   "source": [
    "### Select RIC"
   ]
  },
  {
   "cell_type": "code",
   "execution_count": 15,
   "metadata": {},
   "outputs": [
    {
     "data": {
      "application/vnd.jupyter.widget-view+json": {
       "model_id": "470409411e214b27a055a03c53ff950a",
       "version_major": 2,
       "version_minor": 0
      },
      "text/plain": [
       "Box(children=(Text(value='', description='RIC:', placeholder='Type something'),))"
      ]
     },
     "execution_count": 15,
     "metadata": {},
     "output_type": "execute_result"
    }
   ],
   "source": [
    "ric = widgets.Text(\n",
    "    value='',\n",
    "    placeholder='Type something',\n",
    "    description='RIC:',\n",
    "    disabled=False\n",
    ")\n",
    "\n",
    "items = [ric]\n",
    "box = Box(children=items)\n",
    "\n",
    "box"
   ]
  },
  {
   "cell_type": "markdown",
   "metadata": {},
   "source": [
    "### About"
   ]
  },
  {
   "cell_type": "code",
   "execution_count": 17,
   "metadata": {},
   "outputs": [
    {
     "data": {
      "text/html": [
       "<div>\n",
       "<style scoped>\n",
       "    .dataframe tbody tr th:only-of-type {\n",
       "        vertical-align: middle;\n",
       "    }\n",
       "\n",
       "    .dataframe tbody tr th {\n",
       "        vertical-align: top;\n",
       "    }\n",
       "\n",
       "    .dataframe thead th {\n",
       "        text-align: right;\n",
       "    }\n",
       "</style>\n",
       "<table border=\"1\" class=\"dataframe\">\n",
       "  <thead>\n",
       "    <tr style=\"text-align: right;\">\n",
       "      <th></th>\n",
       "      <th>0</th>\n",
       "    </tr>\n",
       "  </thead>\n",
       "  <tbody>\n",
       "    <tr>\n",
       "      <th>Instrument</th>\n",
       "      <td>VOD.L</td>\n",
       "    </tr>\n",
       "    <tr>\n",
       "      <th>Country of Headquarters</th>\n",
       "      <td>United Kingdom</td>\n",
       "    </tr>\n",
       "    <tr>\n",
       "      <th>Exchange Name</th>\n",
       "      <td>LONDON STOCK EXCHANGE</td>\n",
       "    </tr>\n",
       "    <tr>\n",
       "      <th>TRBC Industry Group Name</th>\n",
       "      <td>Telecommunications Services</td>\n",
       "    </tr>\n",
       "    <tr>\n",
       "      <th>GICS Sector Name</th>\n",
       "      <td>Communication Services</td>\n",
       "    </tr>\n",
       "    <tr>\n",
       "      <th>Ticker Symbol</th>\n",
       "      <td>VOD</td>\n",
       "    </tr>\n",
       "  </tbody>\n",
       "</table>\n",
       "</div>"
      ],
      "text/plain": [
       "                                                    0\n",
       "Instrument                                      VOD.L\n",
       "Country of Headquarters                United Kingdom\n",
       "Exchange Name                   LONDON STOCK EXCHANGE\n",
       "TRBC Industry Group Name  Telecommunications Services\n",
       "GICS Sector Name               Communication Services\n",
       "Ticker Symbol                                     VOD"
      ]
     },
     "execution_count": 17,
     "metadata": {},
     "output_type": "execute_result"
    }
   ],
   "source": [
    "df = rd.get_data(ric.value, [\"TR.HeadquartersCountry\", \"TR.ExchangeName\",\n",
    "                 \"TR.TRBCIndustryGroup\", \"TR.GICSSector\", \"TR.TickerSymbol\"])\n",
    "df.transpose()"
   ]
  },
  {
   "cell_type": "markdown",
   "metadata": {},
   "source": [
    "### General Information I"
   ]
  },
  {
   "cell_type": "code",
   "execution_count": 18,
   "metadata": {},
   "outputs": [
    {
     "data": {
      "text/html": [
       "<div>\n",
       "<style scoped>\n",
       "    .dataframe tbody tr th:only-of-type {\n",
       "        vertical-align: middle;\n",
       "    }\n",
       "\n",
       "    .dataframe tbody tr th {\n",
       "        vertical-align: top;\n",
       "    }\n",
       "\n",
       "    .dataframe thead th {\n",
       "        text-align: right;\n",
       "    }\n",
       "</style>\n",
       "<table border=\"1\" class=\"dataframe\">\n",
       "  <thead>\n",
       "    <tr style=\"text-align: right;\">\n",
       "      <th></th>\n",
       "      <th>0</th>\n",
       "    </tr>\n",
       "  </thead>\n",
       "  <tbody>\n",
       "    <tr>\n",
       "      <th>Instrument</th>\n",
       "      <td>VOD.L</td>\n",
       "    </tr>\n",
       "    <tr>\n",
       "      <th>Price Close</th>\n",
       "      <td>101.22</td>\n",
       "    </tr>\n",
       "    <tr>\n",
       "      <th>Price 52 Week High</th>\n",
       "      <td>132.3</td>\n",
       "    </tr>\n",
       "    <tr>\n",
       "      <th>Price 52 Week Low</th>\n",
       "      <td>83.237</td>\n",
       "    </tr>\n",
       "    <tr>\n",
       "      <th>Price Target - Median</th>\n",
       "      <td>114.72243</td>\n",
       "    </tr>\n",
       "    <tr>\n",
       "      <th>Interim Frequency</th>\n",
       "      <td>Semi-Annual</td>\n",
       "    </tr>\n",
       "    <tr>\n",
       "      <th>CF_CURR</th>\n",
       "      <td>2008</td>\n",
       "    </tr>\n",
       "  </tbody>\n",
       "</table>\n",
       "</div>"
      ],
      "text/plain": [
       "                                 0\n",
       "Instrument                   VOD.L\n",
       "Price Close                 101.22\n",
       "Price 52 Week High           132.3\n",
       "Price 52 Week Low           83.237\n",
       "Price Target - Median    114.72243\n",
       "Interim Frequency      Semi-Annual\n",
       "CF_CURR                       2008"
      ]
     },
     "execution_count": 18,
     "metadata": {},
     "output_type": "execute_result"
    }
   ],
   "source": [
    "df1 = rd.get_data(ric.value, [\"CF_CURR\", \"TR.PriceClose\", \"TR.Price52WeekHigh\",\n",
    "                  \"TR.Price52WeekLow\", \"TR.PriceTargetMedian\", \"TR.InterimFrequency\"])\n",
    "df1.transpose()"
   ]
  },
  {
   "cell_type": "markdown",
   "metadata": {},
   "source": [
    "### General Information II"
   ]
  },
  {
   "cell_type": "code",
   "execution_count": 19,
   "metadata": {},
   "outputs": [
    {
     "data": {
      "text/html": [
       "<div>\n",
       "<style scoped>\n",
       "    .dataframe tbody tr th:only-of-type {\n",
       "        vertical-align: middle;\n",
       "    }\n",
       "\n",
       "    .dataframe tbody tr th {\n",
       "        vertical-align: top;\n",
       "    }\n",
       "\n",
       "    .dataframe thead th {\n",
       "        text-align: right;\n",
       "    }\n",
       "</style>\n",
       "<table border=\"1\" class=\"dataframe\">\n",
       "  <thead>\n",
       "    <tr style=\"text-align: right;\">\n",
       "      <th></th>\n",
       "      <th>0</th>\n",
       "    </tr>\n",
       "  </thead>\n",
       "  <tbody>\n",
       "    <tr>\n",
       "      <th>Instrument</th>\n",
       "      <td>VOD.L</td>\n",
       "    </tr>\n",
       "    <tr>\n",
       "      <th>Dividend yield</th>\n",
       "      <td>7.650978</td>\n",
       "    </tr>\n",
       "    <tr>\n",
       "      <th>Price Close</th>\n",
       "      <td>84.24</td>\n",
       "    </tr>\n",
       "    <tr>\n",
       "      <th>Earnings Per Share - Actual</th>\n",
       "      <td>0.11</td>\n",
       "    </tr>\n",
       "    <tr>\n",
       "      <th>Price / EPS (Mean Estimate)</th>\n",
       "      <td>11.176096</td>\n",
       "    </tr>\n",
       "    <tr>\n",
       "      <th>Outstanding Shares</th>\n",
       "      <td>27040.929411</td>\n",
       "    </tr>\n",
       "    <tr>\n",
       "      <th>Company Market Cap</th>\n",
       "      <td>27370828749.814201</td>\n",
       "    </tr>\n",
       "    <tr>\n",
       "      <th>Currency</th>\n",
       "      <td>GBP</td>\n",
       "    </tr>\n",
       "    <tr>\n",
       "      <th>PE FY0</th>\n",
       "      <td>7.658182</td>\n",
       "    </tr>\n",
       "  </tbody>\n",
       "</table>\n",
       "</div>"
      ],
      "text/plain": [
       "                                              0\n",
       "Instrument                                VOD.L\n",
       "Dividend yield                         7.650978\n",
       "Price Close                               84.24\n",
       "Earnings Per Share - Actual                0.11\n",
       "Price / EPS (Mean Estimate)           11.176096\n",
       "Outstanding Shares                 27040.929411\n",
       "Company Market Cap           27370828749.814201\n",
       "Currency                                    GBP\n",
       "PE FY0                                 7.658182"
      ]
     },
     "execution_count": 19,
     "metadata": {},
     "output_type": "execute_result"
    }
   ],
   "source": [
    "df2 = rd.get_data(ric.value, [\"TR.DividendYield\", \"TR.PriceClose(sdate=FY0)\", \"TR.EPSActvalue(Period=FY0)\",\n",
    "                              \"TR.PtoEPSMeanEst(Period=FY1)\", \"TR.SharesOutstanding(Scale=6)\", \"TR.CompanyMarketCap\",\n",
    "                              \"TR.CompanyMarketCap().currency\"])\n",
    "if df2['Currency'][0] == df1['CF_CURR'][0]:\n",
    "    df2['PE FY0'] = df2['Price Close']/df2['Earnings Per Share - Actual']\n",
    "else:\n",
    "    df2['PE FY0'] = (df2['Price Close']/100)/df2['Earnings Per Share - Actual']\n",
    "\n",
    "df2.transpose()"
   ]
  },
  {
   "cell_type": "markdown",
   "metadata": {},
   "source": [
    "### Growth"
   ]
  },
  {
   "cell_type": "code",
   "execution_count": 20,
   "metadata": {},
   "outputs": [
    {
     "data": {
      "text/html": [
       "<div>\n",
       "<style scoped>\n",
       "    .dataframe tbody tr th:only-of-type {\n",
       "        vertical-align: middle;\n",
       "    }\n",
       "\n",
       "    .dataframe tbody tr th {\n",
       "        vertical-align: top;\n",
       "    }\n",
       "\n",
       "    .dataframe thead th {\n",
       "        text-align: right;\n",
       "    }\n",
       "</style>\n",
       "<table border=\"1\" class=\"dataframe\">\n",
       "  <thead>\n",
       "    <tr style=\"text-align: right;\">\n",
       "      <th></th>\n",
       "      <th>0</th>\n",
       "    </tr>\n",
       "  </thead>\n",
       "  <tbody>\n",
       "    <tr>\n",
       "      <th>EPS-FY1/FY0</th>\n",
       "      <td>-7.672727</td>\n",
       "    </tr>\n",
       "    <tr>\n",
       "      <th>EPS-FY2/FY1</th>\n",
       "      <td>-2.333596</td>\n",
       "    </tr>\n",
       "    <tr>\n",
       "      <th>EPS-FY3/FY2</th>\n",
       "      <td>12.995262</td>\n",
       "    </tr>\n",
       "    <tr>\n",
       "      <th>SALES-FY1/FY0</th>\n",
       "      <td>0.62522</td>\n",
       "    </tr>\n",
       "    <tr>\n",
       "      <th>SALES-FY2/FY1</th>\n",
       "      <td>-1.027959</td>\n",
       "    </tr>\n",
       "    <tr>\n",
       "      <th>SALES-FY3/FY2</th>\n",
       "      <td>0.856733</td>\n",
       "    </tr>\n",
       "  </tbody>\n",
       "</table>\n",
       "</div>"
      ],
      "text/plain": [
       "                       0\n",
       "EPS-FY1/FY0    -7.672727\n",
       "EPS-FY2/FY1    -2.333596\n",
       "EPS-FY3/FY2    12.995262\n",
       "SALES-FY1/FY0    0.62522\n",
       "SALES-FY2/FY1  -1.027959\n",
       "SALES-FY3/FY2   0.856733"
      ]
     },
     "execution_count": 20,
     "metadata": {},
     "output_type": "execute_result"
    }
   ],
   "source": [
    "df3 = rd.get_data(ric.value, ['TR.EPSActValue(period=FY0)', 'TR.EPSMeanEstimate(period=FY1)',\n",
    "                              'TR.EPSMeanEstimate(period=FY2)', 'TR.EPSMeanEstimate(period=FY3)',\n",
    "                              'TR.RevenueActValue(Period=FY0)', 'TR.RevenueMeanEstimate(Period=FY1)',\n",
    "                              'TR.RevenueMeanEstimate(Period=FY2)', 'TR.RevenueMeanEstimate(Period=FY3)',\n",
    "                              ])\n",
    "df3.columns = ['RIC', 'EPS-FY0', 'EPS-FY1', 'EPS-FY2',\n",
    "               'EPS-FY3', 'SALES-FY0', 'SALES-FY1', 'SALES-FY2', 'SALES-FY3']\n",
    "df3['EPS-FY1/FY0'] = (df3['EPS-FY1']/df3['EPS-FY0']-1)*100\n",
    "df3['EPS-FY2/FY1'] = (df3['EPS-FY2']/df3['EPS-FY1']-1)*100\n",
    "df3['EPS-FY3/FY2'] = (df3['EPS-FY3']/df3['EPS-FY2']-1)*100\n",
    "df3['SALES-FY1/FY0'] = (df3['SALES-FY1']/df3['SALES-FY0']-1)*100\n",
    "df3['SALES-FY2/FY1'] = (df3['SALES-FY2']/df3['SALES-FY1']-1)*100\n",
    "df3['SALES-FY3/FY2'] = (df3['SALES-FY3']/df3['SALES-FY2']-1)*100\n",
    "\n",
    "df3.iloc[:, 9:].transpose()"
   ]
  },
  {
   "cell_type": "code",
   "execution_count": 21,
   "metadata": {},
   "outputs": [
    {
     "data": {
      "text/plain": [
       "<AxesSubplot: >"
      ]
     },
     "execution_count": 21,
     "metadata": {},
     "output_type": "execute_result"
    },
    {
     "data": {
      "image/png": "[encoded data removed]",
      "text/plain": [
       "<Figure size 800x550 with 1 Axes>"
      ]
     },
     "metadata": {},
     "output_type": "display_data"
    }
   ],
   "source": [
    "df3.iloc[:, 9:12].plot(kind='bar')"
   ]
  },
  {
   "cell_type": "code",
   "execution_count": 22,
   "metadata": {},
   "outputs": [
    {
     "data": {
      "text/plain": [
       "<AxesSubplot: >"
      ]
     },
     "execution_count": 22,
     "metadata": {},
     "output_type": "execute_result"
    },
    {
     "data": {
      "image/png": "[encoded data removed]",
      "text/plain": [
       "<Figure size 800x550 with 1 Axes>"
      ]
     },
     "metadata": {},
     "output_type": "display_data"
    }
   ],
   "source": [
    "df3.iloc[:, 12:16].plot(kind='bar')"
   ]
  },
  {
   "cell_type": "markdown",
   "metadata": {},
   "source": [
    "### Valuation"
   ]
  },
  {
   "cell_type": "code",
   "execution_count": 9,
   "metadata": {},
   "outputs": [
    {
     "data": {
      "text/html": [
       "<div>\n",
       "<style scoped>\n",
       "    .dataframe tbody tr th:only-of-type {\n",
       "        vertical-align: middle;\n",
       "    }\n",
       "\n",
       "    .dataframe tbody tr th {\n",
       "        vertical-align: top;\n",
       "    }\n",
       "\n",
       "    .dataframe thead th {\n",
       "        text-align: right;\n",
       "    }\n",
       "</style>\n",
       "<table border=\"1\" class=\"dataframe\">\n",
       "  <thead>\n",
       "    <tr style=\"text-align: right;\">\n",
       "      <th></th>\n",
       "      <th>Instrument</th>\n",
       "      <th>Financial Period Relative</th>\n",
       "      <th>Price / EPS (Mean Estimate)</th>\n",
       "      <th>Price / Revenue (Mean Estimate)</th>\n",
       "    </tr>\n",
       "  </thead>\n",
       "  <tbody>\n",
       "    <tr>\n",
       "      <th>0</th>\n",
       "      <td>VOD.L</td>\n",
       "      <td>FY1</td>\n",
       "      <td>9.360114</td>\n",
       "      <td>0.565179</td>\n",
       "    </tr>\n",
       "    <tr>\n",
       "      <th>1</th>\n",
       "      <td>VOD.L</td>\n",
       "      <td>FY2</td>\n",
       "      <td>11.427063</td>\n",
       "      <td>0.675197</td>\n",
       "    </tr>\n",
       "    <tr>\n",
       "      <th>2</th>\n",
       "      <td>VOD.L</td>\n",
       "      <td>FY3</td>\n",
       "      <td>10.12709</td>\n",
       "      <td>0.670403</td>\n",
       "    </tr>\n",
       "  </tbody>\n",
       "</table>\n",
       "</div>"
      ],
      "text/plain": [
       "  Instrument Financial Period Relative  Price / EPS (Mean Estimate)  \\\n",
       "0      VOD.L                       FY1                     9.360114   \n",
       "1      VOD.L                       FY2                    11.427063   \n",
       "2      VOD.L                       FY3                     10.12709   \n",
       "\n",
       "   Price / Revenue (Mean Estimate)  \n",
       "0                         0.565179  \n",
       "1                         0.675197  \n",
       "2                         0.670403  "
      ]
     },
     "execution_count": 9,
     "metadata": {},
     "output_type": "execute_result"
    }
   ],
   "source": [
    "df5 = rd.get_data(ric.value, ['TR.PtoEPSMeanEst(SDate=0,EDate=2,Period=FY1,Frq=FY).rfperiod',\n",
    "                  'TR.PtoEPSMeanEst(SDate=0,EDate=2,Period=FY1,Frq=FY)', 'TR.PtoREVMeanEst(SDate=0,EDate=2,Period=FY1,Frq=FY)'])\n",
    "df5"
   ]
  },
  {
   "cell_type": "markdown",
   "metadata": {},
   "source": [
    "### Consensus Forecasts Information"
   ]
  },
  {
   "cell_type": "code",
   "execution_count": 10,
   "metadata": {},
   "outputs": [
    {
     "data": {
      "application/vnd.jupyter.widget-view+json": {
       "model_id": "7fcc1a0dfedf4a2688e048c152ae62d8",
       "version_major": 2,
       "version_minor": 0
      },
      "text/plain": [
       "Box(children=(Dropdown(description='Metric:', options=('BVPS', 'CFPS', 'DPS', 'EPS', 'EBIT', 'EBITDA', 'NETDEB…"
      ]
     },
     "execution_count": 10,
     "metadata": {},
     "output_type": "execute_result"
    }
   ],
   "source": [
    "mSel = widgets.Dropdown(\n",
    "    options=['BVPS', 'CFPS', 'DPS', 'EPS', 'EBIT', 'EBITDA', 'NETDEBT', 'NETPROFIT', 'PRETAXPROFIT',\n",
    "             'ROA', 'ROE', 'REVENUE'],  # just a sellection you can add any more you want here\n",
    "    value='BVPS',\n",
    "    description='Metric:',\n",
    "    disabled=False,\n",
    ")\n",
    "\n",
    "items2 = [mSel]\n",
    "box2 = Box(children=items2)\n",
    "box2"
   ]
  },
  {
   "cell_type": "code",
   "execution_count": 11,
   "metadata": {},
   "outputs": [
    {
     "data": {
      "text/html": [
       "<div>\n",
       "<style scoped>\n",
       "    .dataframe tbody tr th:only-of-type {\n",
       "        vertical-align: middle;\n",
       "    }\n",
       "\n",
       "    .dataframe tbody tr th {\n",
       "        vertical-align: top;\n",
       "    }\n",
       "\n",
       "    .dataframe thead th {\n",
       "        text-align: right;\n",
       "    }\n",
       "</style>\n",
       "<table border=\"1\" class=\"dataframe\">\n",
       "  <thead>\n",
       "    <tr style=\"text-align: right;\">\n",
       "      <th></th>\n",
       "      <th>Instrument</th>\n",
       "      <th>Financial Period Absolute</th>\n",
       "      <th>Book Value Per Share - Mean</th>\n",
       "      <th>Book Value Per Share - High</th>\n",
       "      <th>Book Value Per Share - Low</th>\n",
       "      <th>Book Value Per Share - Median</th>\n",
       "    </tr>\n",
       "  </thead>\n",
       "  <tbody>\n",
       "    <tr>\n",
       "      <th>0</th>\n",
       "      <td>VOD.L</td>\n",
       "      <td>FY2023</td>\n",
       "      <td>1.977</td>\n",
       "      <td>2.108</td>\n",
       "      <td>1.84</td>\n",
       "      <td>1.99</td>\n",
       "    </tr>\n",
       "    <tr>\n",
       "      <th>1</th>\n",
       "      <td>VOD.L</td>\n",
       "      <td>FY2024</td>\n",
       "      <td>1.998</td>\n",
       "      <td>2.155</td>\n",
       "      <td>1.84</td>\n",
       "      <td>2.0</td>\n",
       "    </tr>\n",
       "    <tr>\n",
       "      <th>2</th>\n",
       "      <td>VOD.L</td>\n",
       "      <td>FY2025</td>\n",
       "      <td>2.08186</td>\n",
       "      <td>2.239</td>\n",
       "      <td>1.894</td>\n",
       "      <td>2.12</td>\n",
       "    </tr>\n",
       "  </tbody>\n",
       "</table>\n",
       "</div>"
      ],
      "text/plain": [
       "  Instrument Financial Period Absolute  Book Value Per Share - Mean  \\\n",
       "0      VOD.L                    FY2023                        1.977   \n",
       "1      VOD.L                    FY2024                        1.998   \n",
       "2      VOD.L                    FY2025                      2.08186   \n",
       "\n",
       "   Book Value Per Share - High  Book Value Per Share - Low  \\\n",
       "0                        2.108                        1.84   \n",
       "1                        2.155                        1.84   \n",
       "2                        2.239                       1.894   \n",
       "\n",
       "   Book Value Per Share - Median  \n",
       "0                           1.99  \n",
       "1                            2.0  \n",
       "2                           2.12  "
      ]
     },
     "metadata": {},
     "output_type": "display_data"
    }
   ],
   "source": [
    "try:\n",
    "    df5 = rd.get_data(ric.value, ['TR.'+mSel.value+'Mean(SDate=0,EDate=2,Period=FY1,Frq=FY).fperiod', 'TR.'+mSel.value+'Mean(SDate=0,EDate=2,Period=FY1,Frq=FY)', 'TR.'+mSel.value +\n",
    "                      'High(SDate=0,EDate=2,Period=FY1,Frq=FY)', 'TR.'+mSel.value+'Low(SDate=0,EDate=2,Period=FY1,Frq=FY)', 'TR.'+mSel.value+'Median(SDate=0,EDate=2,Period=FY1,Frq=FY)'])\n",
    "    display(df5)\n",
    "except:\n",
    "    print('Metric not available for this company, please select another metric')"
   ]
  },
  {
   "cell_type": "code",
   "execution_count": 12,
   "metadata": {},
   "outputs": [
    {
     "data": {
      "text/html": [
       "<div>\n",
       "<style scoped>\n",
       "    .dataframe tbody tr th:only-of-type {\n",
       "        vertical-align: middle;\n",
       "    }\n",
       "\n",
       "    .dataframe tbody tr th {\n",
       "        vertical-align: top;\n",
       "    }\n",
       "\n",
       "    .dataframe thead th {\n",
       "        text-align: right;\n",
       "    }\n",
       "</style>\n",
       "<table border=\"1\" class=\"dataframe\">\n",
       "  <thead>\n",
       "    <tr style=\"text-align: right;\">\n",
       "      <th></th>\n",
       "      <th>Instrument</th>\n",
       "      <th>Financial Period Absolute</th>\n",
       "      <th>Book Value Per Share - Mean</th>\n",
       "      <th>Book Value Per Share - High</th>\n",
       "      <th>Book Value Per Share - Low</th>\n",
       "      <th>Book Value Per Share - Median</th>\n",
       "    </tr>\n",
       "  </thead>\n",
       "  <tbody>\n",
       "    <tr>\n",
       "      <th>0</th>\n",
       "      <td>VOD.L</td>\n",
       "      <td></td>\n",
       "      <td></td>\n",
       "      <td></td>\n",
       "      <td></td>\n",
       "      <td></td>\n",
       "    </tr>\n",
       "  </tbody>\n",
       "</table>\n",
       "</div>"
      ],
      "text/plain": [
       "  Instrument Financial Period Absolute Book Value Per Share - Mean  \\\n",
       "0      VOD.L                                                         \n",
       "\n",
       "  Book Value Per Share - High Book Value Per Share - Low  \\\n",
       "0                                                          \n",
       "\n",
       "  Book Value Per Share - Median  \n",
       "0                                "
      ]
     },
     "metadata": {},
     "output_type": "display_data"
    }
   ],
   "source": [
    "if df1['Interim Frequency'][0] == 'Quarterly':\n",
    "    try:\n",
    "        df6 = rd.get_data(ric.value, ['TR.'+mSel.value+'Mean(SDate=0,EDate=2,Period=FQ1,Frq=FQ).fperiod', 'TR.'+mSel.value+'Mean(SDate=0,EDate=2,Period=FQ1,Frq=FQ)', 'TR.'+mSel.value +\n",
    "                          'High(SDate=0,EDate=2,Period=FQ1,Frq=FQ)', 'TR.'+mSel.value+'Low(SDate=0,EDate=2,Period=FQ1,Frq=FQ)', 'TR.'+mSel.value+'Median(SDate=0,EDate=2,Period=FQ1,Frq=FQ)'])\n",
    "        display(df6)\n",
    "    except:\n",
    "        print('Metric not available for this company, please select another metric')\n",
    "else:\n",
    "    try:\n",
    "        df6 = rd.get_data(ric.value, ['TR.'+mSel.value+'Mean(SDate=0,EDate=2,Period=FI1,Frq=FI).fperiod', 'TR.'+mSel.value+'Mean(SDate=0,EDate=2,Period=FI1,Frq=FI)', 'TR.'+mSel.value +\n",
    "                          'High(SDate=0,EDate=2,Period=FI1,Frq=FI)', 'TR.'+mSel.value+'Low(SDate=0,EDate=2,Period=FI1,Frq=FI)', 'TR.'+mSel.value+'Median(SDate=0,EDate=2,Period=FI1,Frq=FI)'])\n",
    "        display(df6)\n",
    "    except:\n",
    "        print('Metric not available for this company, please select another metric')"
   ]
  },
  {
   "cell_type": "code",
   "execution_count": 13,
   "metadata": {},
   "outputs": [],
   "source": [
    "rd.close_session()"
   ]
  },
  {
   "cell_type": "markdown",
   "metadata": {},
   "source": [
    "**Further Resources for Refinitiv Data Libraries API on Developer Community Portal**\n",
    "\n",
    "* [Overview](https://developers.refinitiv.com/en/api-catalog/refinitiv-data-platform/refinitiv-data-library-for-python) \n",
    "* [Quick Start ](https://developers.refinitiv.com/en/api-catalog/refinitiv-data-platform/refinitiv-data-library-for-python/quick-start)\n",
    "* [Documentation](https://developers.refinitiv.com/en/api-catalog/refinitiv-data-platform/refinitiv-data-library-for-python/documentation)\n",
    "* [Tutorials](https://developers.refinitiv.com/en/api-catalog/refinitiv-data-platform/refinitiv-data-library-for-python/tutorials)\n",
    "* [Q&A Forums](https://community.developers.refinitiv.com/spaces/321/index.html)"
   ]
  }
 ],
 "metadata": {
  "kernelspec": {
   "display_name": "Python 3 (ipykernel)",
   "language": "python",
   "name": "python3"
  },
  "language_info": {
   "codemirror_mode": {
    "name": "ipython",
    "version": 3
   },
   "file_extension": ".py",
   "mimetype": "text/x-python",
   "name": "python",
   "nbconvert_exporter": "python",
   "pygments_lexer": "ipython3",
   "version": "3.9.13"
  },
  "widgets": {
   "application/vnd.jupyter.widget-state+json": {
    "state": {
     "005203ac520d4569880d7bbbe5325028": {
      "model_module": "@jupyter-widgets/controls",
      "model_module_version": "1.5.0",
      "model_name": "DropdownModel",
      "state": {
       "_options_labels": [
        "BVPS",
        "CFPS",
        "DPS",
        "EPS",
        "EBIT",
        "EBITDA",
        "NETDEBT",
        "NETPROFIT",
        "OPRPROFIT",
        "ROA",
        "ROE",
        "REVENUE"
       ],
       "description": "Metric:",
       "index": 8,
       "layout": "IPY_MODEL_2f45fbfbe0e947fea4e4bf42d1ea1e68",
       "style": "IPY_MODEL_d7efbc679a3449a2b4b1c3a7657fea0a"
      }
     },
     "03c2f87575ce4e64807f41cade7e28ac": {
      "model_module": "@jupyter-widgets/base",
      "model_module_version": "1.2.0",
      "model_name": "LayoutModel",
      "state": {}
     },
     "27bf78af4bd04d28a946bd842162f20f": {
      "model_module": "@jupyter-widgets/controls",
      "model_module_version": "1.5.0",
      "model_name": "BoxModel",
      "state": {
       "children": [
        "IPY_MODEL_89feb070dfae49cc97150631bab9dc8e"
       ],
       "layout": "IPY_MODEL_62f37b9c3cb64e68b2ef68afdc7c78b2"
      }
     },
     "2f45fbfbe0e947fea4e4bf42d1ea1e68": {
      "model_module": "@jupyter-widgets/base",
      "model_module_version": "1.2.0",
      "model_name": "LayoutModel",
      "state": {}
     },
     "3191fe47c33941c785fadc3b268d61e3": {
      "model_module": "@jupyter-widgets/controls",
      "model_module_version": "1.5.0",
      "model_name": "DescriptionStyleModel",
      "state": {
       "description_width": ""
      }
     },
     "62f37b9c3cb64e68b2ef68afdc7c78b2": {
      "model_module": "@jupyter-widgets/base",
      "model_module_version": "1.2.0",
      "model_name": "LayoutModel",
      "state": {}
     },
     "715e94605ada40c48cf1977caf99dcfe": {
      "model_module": "@jupyter-widgets/base",
      "model_module_version": "1.2.0",
      "model_name": "LayoutModel",
      "state": {}
     },
     "89feb070dfae49cc97150631bab9dc8e": {
      "model_module": "@jupyter-widgets/controls",
      "model_module_version": "1.5.0",
      "model_name": "DropdownModel",
      "state": {
       "_options_labels": [
        "BVPS",
        "CFPS",
        "DPS",
        "EPS",
        "EBIT",
        "EBITDA",
        "NETDEBT",
        "NETPROFIT",
        "PRETAXPROFIT",
        "ROA",
        "ROE",
        "REVENUE"
       ],
       "description": "Metric:",
       "index": 8,
       "layout": "IPY_MODEL_c6065679fdf34f89a719428ec962ec15",
       "style": "IPY_MODEL_d7fda6589f4f4ee1ada1806ca66bd3b5"
      }
     },
     "97a52342132a4ad0984f051ff44df964": {
      "model_module": "@jupyter-widgets/controls",
      "model_module_version": "1.5.0",
      "model_name": "BoxModel",
      "state": {
       "children": [
        "IPY_MODEL_a618fea9fd72480fad6f4ac0ad80a83c"
       ],
       "layout": "IPY_MODEL_e5b5be8ceb964d31a3566b8021c135b6"
      }
     },
     "9fcd2522ab3e43a59fb1efa0c3c557e1": {
      "model_module": "@jupyter-widgets/controls",
      "model_module_version": "1.5.0",
      "model_name": "BoxModel",
      "state": {
       "children": [
        "IPY_MODEL_005203ac520d4569880d7bbbe5325028"
       ],
       "layout": "IPY_MODEL_715e94605ada40c48cf1977caf99dcfe"
      }
     },
     "a618fea9fd72480fad6f4ac0ad80a83c": {
      "model_module": "@jupyter-widgets/controls",
      "model_module_version": "1.5.0",
      "model_name": "TextModel",
      "state": {
       "description": "RIC:",
       "layout": "IPY_MODEL_03c2f87575ce4e64807f41cade7e28ac",
       "placeholder": "Type something",
       "style": "IPY_MODEL_3191fe47c33941c785fadc3b268d61e3",
       "value": "VOD.L"
      }
     },
     "c6065679fdf34f89a719428ec962ec15": {
      "model_module": "@jupyter-widgets/base",
      "model_module_version": "1.2.0",
      "model_name": "LayoutModel",
      "state": {}
     },
     "d7efbc679a3449a2b4b1c3a7657fea0a": {
      "model_module": "@jupyter-widgets/controls",
      "model_module_version": "1.5.0",
      "model_name": "DescriptionStyleModel",
      "state": {
       "description_width": ""
      }
     },
     "d7fda6589f4f4ee1ada1806ca66bd3b5": {
      "model_module": "@jupyter-widgets/controls",
      "model_module_version": "1.5.0",
      "model_name": "DescriptionStyleModel",
      "state": {
       "description_width": ""
      }
     },
     "e5b5be8ceb964d31a3566b8021c135b6": {
      "model_module": "@jupyter-widgets/base",
      "model_module_version": "1.2.0",
      "model_name": "LayoutModel",
      "state": {}
     }
    },
    "version_major": 2,
    "version_minor": 0
   }
  }
 },
 "nbformat": 4,
 "nbformat_minor": 4
}
